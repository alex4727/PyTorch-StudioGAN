{
 "cells": [
  {
   "cell_type": "code",
   "execution_count": 50,
   "metadata": {},
   "outputs": [],
   "source": [
    "import os\n",
    "\n",
    "num_gpus = 8\n",
    "\n",
    "dsets = [(\"one_512\", \"one_512\"), (\"one_256\", \"one_256\"), (\"one_128\", \"one_128\"), (\"one_random\", \"one_random\"), \\\n",
    "    (\"twoh_512\", \"twoh_512\"), (\"twoh_256\", \"twoh_256\"), (\"twoh_128\", \"twoh_128\"), (\"twoh_random\", \"twoh_random\"), \\\n",
    "    (\"twov_512\", \"twov_512\"), (\"twov_256\", \"twov_256\"), (\"twov_128\", \"twov_128\"), (\"twov_random\", \"twov_random\"), \\\n",
    "    (\"four_512\", \"four_512\"), (\"four_256\", \"four_256\"), (\"four_128\", \"four_128\"), (\"four_random\", \"four_random\")]\n",
    "\n",
    "max_count = int(len(dsets) / num_gpus)\n",
    "counter, gpu_id = 0, 0\n",
    "commands = []\n",
    "\n",
    "for dset in dsets:\n",
    "    if counter >= max_count:\n",
    "        gpu_id += 1\n",
    "        counter = 0\n",
    "    dset1, dset2 = dset[0], dset[1]\n",
    "    commands.append(f\"CUDA_VISIBLE_DEVICES={gpu_id} python src/evaluate.py -metrics fid is --dset1 /root/data/data/sample_fd/{dset1}/setA --dset2 /root/data/data/sample_fd/{dset1}/setB/\\n\")\n",
    "    counter += 1\n",
    "\n",
    "to_remove = []\n",
    "for command in commands:\n",
    "    to_remove.append(command[21])\n",
    "\n",
    "for f in to_remove:\n",
    "    if os.path.isfile(f\"{f}.sh\"):\n",
    "        os.remove(f\"{f}.sh\")\n",
    "\n",
    "for command in commands:\n",
    "    with open(f\"{command[21]}.sh\", \"a\") as f:\n",
    "        f.write(command)"
   ]
  }
 ],
 "metadata": {
  "kernelspec": {
   "display_name": "Python 3.9.12 ('sgxl')",
   "language": "python",
   "name": "python3"
  },
  "language_info": {
   "codemirror_mode": {
    "name": "ipython",
    "version": 3
   },
   "file_extension": ".py",
   "mimetype": "text/x-python",
   "name": "python",
   "nbconvert_exporter": "python",
   "pygments_lexer": "ipython3",
   "version": "3.9.12"
  },
  "orig_nbformat": 4,
  "vscode": {
   "interpreter": {
    "hash": "43d309dd82bfea8bf9169f741f0a874200cdf74d8ab25fd4ccc54c7f907d8284"
   }
  }
 },
 "nbformat": 4,
 "nbformat_minor": 2
}
