{
 "cells": [
  {
   "cell_type": "code",
   "execution_count": 119,
   "metadata": {},
   "outputs": [],
   "source": [
    "# Imports\n",
    "from PIL import Image\n",
    "import cv2\n",
    "import os\n",
    "import random\n",
    "import numpy as np\n",
    "import matplotlib.pyplot as plt\n",
    "from tqdm import tqdm\n",
    "import shutil\n",
    "from num2words import num2words"
   ]
  },
  {
   "cell_type": "code",
   "execution_count": null,
   "metadata": {},
   "outputs": [],
   "source": [
    "# Create black base image\n",
    "# img = Image.new('RGB', (1024, 1024), 'black')\n",
    "# img.save('black.png')"
   ]
  },
  {
   "cell_type": "code",
   "execution_count": 13,
   "metadata": {},
   "outputs": [],
   "source": [
    "# Divide FFHQ into setA and setB\n",
    "# images = []\n",
    "# for cls in sorted(os.listdir('/root/data/data/FFHQ/train')):\n",
    "#     for img in sorted(os.listdir('/root/data/data/FFHQ/train/' + cls)):\n",
    "#         images.append(os.path.join('/root/data/data/FFHQ/train/' + cls, img))\n",
    "# random.shuffle(images)\n",
    "\n",
    "# for img in images[:35000]:\n",
    "#     shutil.copy(img, '/root/data/data/sample_fd/FFHQ_SAMPLE/setA/')\n",
    "# for img in images[35000:]:\n",
    "#     shutil.copy(img, '/root/data/data/sample_fd/FFHQ_SAMPLE/setB/')\n"
   ]
  },
  {
   "cell_type": "code",
   "execution_count": 110,
   "metadata": {},
   "outputs": [],
   "source": [
    "def get_random_locations(upper_left_corner, lower_right_corner, img_size):\n",
    "    # corners in (x, y) format \n",
    "    # note that in cv2, dimensions are hwc.\n",
    "    x = random.randint(upper_left_corner[0], lower_right_corner[0] - img_size + 1)\n",
    "    y = random.randint(upper_left_corner[1], lower_right_corner[1] - img_size + 1)\n",
    "    return x, y"
   ]
  },
  {
   "cell_type": "code",
   "execution_count": 123,
   "metadata": {},
   "outputs": [],
   "source": [
    "def randomize_image_location(n, images, image_size):\n",
    "    bg = cv2.imread(\"./black.png\")\n",
    "    fg_images = []\n",
    "\n",
    "    if image_size == \"random\":\n",
    "        for image in images:\n",
    "            img_size = random.randint(128, 512)\n",
    "            img = Image.open(image).resize((img_size, img_size), Image.Resampling.LANCZOS)\n",
    "            fg_images.append(cv2.cvtColor(np.array(img), cv2.COLOR_RGB2BGR))\n",
    "    else:\n",
    "        image_size = int(image_size)\n",
    "        for image in images:\n",
    "            img = Image.open(image).resize((image_size, image_size), Image.Resampling.LANCZOS)\n",
    "            fg_images.append(cv2.cvtColor(np.array(img), cv2.COLOR_RGB2BGR))\n",
    "    \n",
    "    corners = {\"1\": [(0, 0, 1023, 1023)], \\\n",
    "        \"2v\": [(0, 0, 511, 1023), (512, 0, 1023, 1023)], \\\n",
    "        \"2h\": [(0, 0, 1023, 511), (0, 512, 1023, 1023)], \\\n",
    "        \"4\": [(0, 0, 511, 511), (512, 0, 1023, 511), (0, 512, 511, 1023), (512, 512, 1023, 1023)]}\n",
    "\n",
    "    boxes = corners[str(n)]\n",
    "\n",
    "    for i, box in enumerate(boxes):\n",
    "        x, y = get_random_locations((box[0], box[1]), (box[2], box[3]), fg_images[i].shape[0])\n",
    "        bg[y:y+fg_images[i].shape[0], x:x+fg_images[i].shape[1]] = fg_images[i]\n",
    "    return bg"
   ]
  },
  {
   "cell_type": "code",
   "execution_count": 124,
   "metadata": {},
   "outputs": [
    {
     "name": "stdout",
     "output_type": "stream",
     "text": [
      "Creating Images for setA\n"
     ]
    },
    {
     "name": "stderr",
     "output_type": "stream",
     "text": [
      " 15%|█▌        | 5374/35000 [06:19<34:49, 14.18it/s]\n"
     ]
    },
    {
     "ename": "KeyboardInterrupt",
     "evalue": "",
     "output_type": "error",
     "traceback": [
      "\u001b[0;31m---------------------------------------------------------------------------\u001b[0m",
      "\u001b[0;31mKeyboardInterrupt\u001b[0m                         Traceback (most recent call last)",
      "\u001b[1;32m/root/code/StudioGAN/alex/PyTorch-StudioGAN/toy.ipynb Cell 6\u001b[0m in \u001b[0;36m<cell line: 28>\u001b[0;34m()\u001b[0m\n\u001b[1;32m     <a href='vscode-notebook-cell://attached-container%2B7b22636f6e7461696e65724e616d65223a222f6a6f6f6e675f32222c2273657474696e6773223a7b22686f7374223a227463703a2f2f6c6f63616c686f73743a3233373530227d7d/root/code/StudioGAN/alex/PyTorch-StudioGAN/toy.ipynb#X10sdnNjb2RlLXJlbW90ZQ%3D%3D?line=35'>36</a>\u001b[0m         random\u001b[39m.\u001b[39mshuffle(A_queue)\n\u001b[1;32m     <a href='vscode-notebook-cell://attached-container%2B7b22636f6e7461696e65724e616d65223a222f6a6f6f6e675f32222c2273657474696e6773223a7b22686f7374223a227463703a2f2f6c6f63616c686f73743a3233373530227d7d/root/code/StudioGAN/alex/PyTorch-StudioGAN/toy.ipynb#X10sdnNjb2RlLXJlbW90ZQ%3D%3D?line=36'>37</a>\u001b[0m         tmp\u001b[39m.\u001b[39mappend(A_queue\u001b[39m.\u001b[39mpop())\n\u001b[0;32m---> <a href='vscode-notebook-cell://attached-container%2B7b22636f6e7461696e65724e616d65223a222f6a6f6f6e675f32222c2273657474696e6773223a7b22686f7374223a227463703a2f2f6c6f63616c686f73743a3233373530227d7d/root/code/StudioGAN/alex/PyTorch-StudioGAN/toy.ipynb#X10sdnNjb2RlLXJlbW90ZQ%3D%3D?line=37'>38</a>\u001b[0m new_img \u001b[39m=\u001b[39m randomize_image_location(n, tmp, img_size)\n\u001b[1;32m     <a href='vscode-notebook-cell://attached-container%2B7b22636f6e7461696e65724e616d65223a222f6a6f6f6e675f32222c2273657474696e6773223a7b22686f7374223a227463703a2f2f6c6f63616c686f73743a3233373530227d7d/root/code/StudioGAN/alex/PyTorch-StudioGAN/toy.ipynb#X10sdnNjb2RlLXJlbW90ZQ%3D%3D?line=38'>39</a>\u001b[0m cv2\u001b[39m.\u001b[39mimwrite(os\u001b[39m.\u001b[39mpath\u001b[39m.\u001b[39mjoin(setA_save_path, \u001b[39m\"\u001b[39m\u001b[39m%05d\u001b[39;00m\u001b[39m.png\u001b[39m\u001b[39m\"\u001b[39m \u001b[39m%\u001b[39m i), new_img)\n",
      "\u001b[1;32m/root/code/StudioGAN/alex/PyTorch-StudioGAN/toy.ipynb Cell 6\u001b[0m in \u001b[0;36mrandomize_image_location\u001b[0;34m(n, images, image_size)\u001b[0m\n\u001b[1;32m     <a href='vscode-notebook-cell://attached-container%2B7b22636f6e7461696e65724e616d65223a222f6a6f6f6e675f32222c2273657474696e6773223a7b22686f7374223a227463703a2f2f6c6f63616c686f73743a3233373530227d7d/root/code/StudioGAN/alex/PyTorch-StudioGAN/toy.ipynb#X10sdnNjb2RlLXJlbW90ZQ%3D%3D?line=9'>10</a>\u001b[0m \u001b[39melse\u001b[39;00m:\n\u001b[1;32m     <a href='vscode-notebook-cell://attached-container%2B7b22636f6e7461696e65724e616d65223a222f6a6f6f6e675f32222c2273657474696e6773223a7b22686f7374223a227463703a2f2f6c6f63616c686f73743a3233373530227d7d/root/code/StudioGAN/alex/PyTorch-StudioGAN/toy.ipynb#X10sdnNjb2RlLXJlbW90ZQ%3D%3D?line=10'>11</a>\u001b[0m     \u001b[39mfor\u001b[39;00m image \u001b[39min\u001b[39;00m images:\n\u001b[0;32m---> <a href='vscode-notebook-cell://attached-container%2B7b22636f6e7461696e65724e616d65223a222f6a6f6f6e675f32222c2273657474696e6773223a7b22686f7374223a227463703a2f2f6c6f63616c686f73743a3233373530227d7d/root/code/StudioGAN/alex/PyTorch-StudioGAN/toy.ipynb#X10sdnNjb2RlLXJlbW90ZQ%3D%3D?line=11'>12</a>\u001b[0m         img \u001b[39m=\u001b[39m Image\u001b[39m.\u001b[39;49mopen(image)\u001b[39m.\u001b[39;49mresize((image_size, image_size), Image\u001b[39m.\u001b[39;49mResampling\u001b[39m.\u001b[39;49mLANCZOS)\n\u001b[1;32m     <a href='vscode-notebook-cell://attached-container%2B7b22636f6e7461696e65724e616d65223a222f6a6f6f6e675f32222c2273657474696e6773223a7b22686f7374223a227463703a2f2f6c6f63616c686f73743a3233373530227d7d/root/code/StudioGAN/alex/PyTorch-StudioGAN/toy.ipynb#X10sdnNjb2RlLXJlbW90ZQ%3D%3D?line=12'>13</a>\u001b[0m         fg_images\u001b[39m.\u001b[39mappend(cv2\u001b[39m.\u001b[39mcvtColor(np\u001b[39m.\u001b[39marray(img), cv2\u001b[39m.\u001b[39mCOLOR_RGB2BGR))\n\u001b[1;32m     <a href='vscode-notebook-cell://attached-container%2B7b22636f6e7461696e65724e616d65223a222f6a6f6f6e675f32222c2273657474696e6773223a7b22686f7374223a227463703a2f2f6c6f63616c686f73743a3233373530227d7d/root/code/StudioGAN/alex/PyTorch-StudioGAN/toy.ipynb#X10sdnNjb2RlLXJlbW90ZQ%3D%3D?line=14'>15</a>\u001b[0m corners \u001b[39m=\u001b[39m {\u001b[39m\"\u001b[39m\u001b[39m1\u001b[39m\u001b[39m\"\u001b[39m: [(\u001b[39m0\u001b[39m, \u001b[39m0\u001b[39m, \u001b[39m1023\u001b[39m, \u001b[39m1023\u001b[39m)], \\\n\u001b[1;32m     <a href='vscode-notebook-cell://attached-container%2B7b22636f6e7461696e65724e616d65223a222f6a6f6f6e675f32222c2273657474696e6773223a7b22686f7374223a227463703a2f2f6c6f63616c686f73743a3233373530227d7d/root/code/StudioGAN/alex/PyTorch-StudioGAN/toy.ipynb#X10sdnNjb2RlLXJlbW90ZQ%3D%3D?line=15'>16</a>\u001b[0m     \u001b[39m\"\u001b[39m\u001b[39m2v\u001b[39m\u001b[39m\"\u001b[39m: [(\u001b[39m0\u001b[39m, \u001b[39m0\u001b[39m, \u001b[39m511\u001b[39m, \u001b[39m1023\u001b[39m), (\u001b[39m512\u001b[39m, \u001b[39m0\u001b[39m, \u001b[39m1023\u001b[39m, \u001b[39m1023\u001b[39m)], \\\n\u001b[1;32m     <a href='vscode-notebook-cell://attached-container%2B7b22636f6e7461696e65724e616d65223a222f6a6f6f6e675f32222c2273657474696e6773223a7b22686f7374223a227463703a2f2f6c6f63616c686f73743a3233373530227d7d/root/code/StudioGAN/alex/PyTorch-StudioGAN/toy.ipynb#X10sdnNjb2RlLXJlbW90ZQ%3D%3D?line=16'>17</a>\u001b[0m     \u001b[39m\"\u001b[39m\u001b[39m2h\u001b[39m\u001b[39m\"\u001b[39m: [(\u001b[39m0\u001b[39m, \u001b[39m0\u001b[39m, \u001b[39m1023\u001b[39m, \u001b[39m511\u001b[39m), (\u001b[39m0\u001b[39m, \u001b[39m512\u001b[39m, \u001b[39m1023\u001b[39m, \u001b[39m1023\u001b[39m)], \\\n\u001b[1;32m     <a href='vscode-notebook-cell://attached-container%2B7b22636f6e7461696e65724e616d65223a222f6a6f6f6e675f32222c2273657474696e6773223a7b22686f7374223a227463703a2f2f6c6f63616c686f73743a3233373530227d7d/root/code/StudioGAN/alex/PyTorch-StudioGAN/toy.ipynb#X10sdnNjb2RlLXJlbW90ZQ%3D%3D?line=17'>18</a>\u001b[0m     \u001b[39m\"\u001b[39m\u001b[39m4\u001b[39m\u001b[39m\"\u001b[39m: [(\u001b[39m0\u001b[39m, \u001b[39m0\u001b[39m, \u001b[39m511\u001b[39m, \u001b[39m511\u001b[39m), (\u001b[39m512\u001b[39m, \u001b[39m0\u001b[39m, \u001b[39m1023\u001b[39m, \u001b[39m511\u001b[39m), (\u001b[39m0\u001b[39m, \u001b[39m512\u001b[39m, \u001b[39m511\u001b[39m, \u001b[39m1023\u001b[39m), (\u001b[39m512\u001b[39m, \u001b[39m512\u001b[39m, \u001b[39m1023\u001b[39m, \u001b[39m1023\u001b[39m)]}\n",
      "File \u001b[0;32m/opt/conda/envs/sgxl/lib/python3.9/site-packages/PIL/Image.py:2046\u001b[0m, in \u001b[0;36mImage.resize\u001b[0;34m(self, size, resample, box, reducing_gap)\u001b[0m\n\u001b[1;32m   2042\u001b[0m     \u001b[39mraise\u001b[39;00m \u001b[39mValueError\u001b[39;00m(\u001b[39m\"\u001b[39m\u001b[39mreducing_gap must be 1.0 or greater\u001b[39m\u001b[39m\"\u001b[39m)\n\u001b[1;32m   2044\u001b[0m size \u001b[39m=\u001b[39m \u001b[39mtuple\u001b[39m(size)\n\u001b[0;32m-> 2046\u001b[0m \u001b[39mself\u001b[39;49m\u001b[39m.\u001b[39;49mload()\n\u001b[1;32m   2047\u001b[0m \u001b[39mif\u001b[39;00m box \u001b[39mis\u001b[39;00m \u001b[39mNone\u001b[39;00m:\n\u001b[1;32m   2048\u001b[0m     box \u001b[39m=\u001b[39m (\u001b[39m0\u001b[39m, \u001b[39m0\u001b[39m) \u001b[39m+\u001b[39m \u001b[39mself\u001b[39m\u001b[39m.\u001b[39msize\n",
      "File \u001b[0;32m/opt/conda/envs/sgxl/lib/python3.9/site-packages/PIL/ImageFile.py:257\u001b[0m, in \u001b[0;36mImageFile.load\u001b[0;34m(self)\u001b[0m\n\u001b[1;32m    251\u001b[0m         \u001b[39mraise\u001b[39;00m \u001b[39mOSError\u001b[39;00m(\n\u001b[1;32m    252\u001b[0m             \u001b[39m\"\u001b[39m\u001b[39mimage file is truncated \u001b[39m\u001b[39m\"\u001b[39m\n\u001b[1;32m    253\u001b[0m             \u001b[39mf\u001b[39m\u001b[39m\"\u001b[39m\u001b[39m(\u001b[39m\u001b[39m{\u001b[39;00m\u001b[39mlen\u001b[39m(b)\u001b[39m}\u001b[39;00m\u001b[39m bytes not processed)\u001b[39m\u001b[39m\"\u001b[39m\n\u001b[1;32m    254\u001b[0m         )\n\u001b[1;32m    256\u001b[0m b \u001b[39m=\u001b[39m b \u001b[39m+\u001b[39m s\n\u001b[0;32m--> 257\u001b[0m n, err_code \u001b[39m=\u001b[39m decoder\u001b[39m.\u001b[39;49mdecode(b)\n\u001b[1;32m    258\u001b[0m \u001b[39mif\u001b[39;00m n \u001b[39m<\u001b[39m \u001b[39m0\u001b[39m:\n\u001b[1;32m    259\u001b[0m     \u001b[39mbreak\u001b[39;00m\n",
      "\u001b[0;31mKeyboardInterrupt\u001b[0m: "
     ]
    }
   ],
   "source": [
    "n = 1\n",
    "img_size = 128\n",
    "\n",
    "setA = \"/root/data/data/sample_fd/FFHQ_SAMPLE/setA\"\n",
    "setB = \"/root/data/data/sample_fd/FFHQ_SAMPLE/setB\"\n",
    "base = \"/root/data/data/sample_fd/\"\n",
    "\n",
    "if n == \"2h\":\n",
    "    save_path = os.path.join(base, f\"twoh_{img_size}\")\n",
    "elif n == \"2v\":\n",
    "    save_path = os.path.join(base, f\"twov_{img_size}\")\n",
    "else:\n",
    "    save_path = os.path.join(base, f\"{num2words(int(n))}_{img_size}\")\n",
    "\n",
    "setA_save_path = save_path+\"/setA/all\"\n",
    "setB_save_path = save_path+\"/setB/all\"\n",
    "os.makedirs(setA_save_path)\n",
    "os.makedirs(setB_save_path)\n",
    "\n",
    "images_A = [os.path.join(setA, img) for img in sorted(os.listdir(setA))]\n",
    "images_B = [os.path.join(setB, img) for img in sorted(os.listdir(setB))]\n",
    "A_queue = images_A.copy()\n",
    "B_queue = images_B.copy()\n",
    "random.shuffle(A_queue)\n",
    "random.shuffle(B_queue)\n",
    "\n",
    "print(\"Creating Images for setA\")\n",
    "for i in tqdm(range(0, 35000)):\n",
    "    tmp = []\n",
    "    for j in range(0, 2 if (n == \"2v\" or n == \"2h\") else int(n)):\n",
    "        try:\n",
    "            tmp.append(A_queue.pop())\n",
    "        except:\n",
    "            print(\"Popped all images from setA\")\n",
    "            A_queue = images_A.copy()\n",
    "            random.shuffle(A_queue)\n",
    "            tmp.append(A_queue.pop())\n",
    "    new_img = randomize_image_location(n, tmp, img_size)\n",
    "    cv2.imwrite(os.path.join(setA_save_path, \"%05d.png\" % i), new_img)\n"
   ]
  },
  {
   "cell_type": "code",
   "execution_count": 122,
   "metadata": {},
   "outputs": [
    {
     "data": {
      "text/plain": [
       "True"
      ]
     },
     "execution_count": 122,
     "metadata": {},
     "output_type": "execute_result"
    }
   ],
   "source": [
    "img = [\"/root/data/data/FFHQ/train/00000/00000.png\"]\n",
    "a = randomize_image_location(1, img, 128)\n",
    "cv2.imwrite(\"test.png\", a)"
   ]
  }
 ],
 "metadata": {
  "kernelspec": {
   "display_name": "Python 3.9.12 ('sgxl')",
   "language": "python",
   "name": "python3"
  },
  "language_info": {
   "codemirror_mode": {
    "name": "ipython",
    "version": 3
   },
   "file_extension": ".py",
   "mimetype": "text/x-python",
   "name": "python",
   "nbconvert_exporter": "python",
   "pygments_lexer": "ipython3",
   "version": "3.9.12"
  },
  "orig_nbformat": 4,
  "vscode": {
   "interpreter": {
    "hash": "43d309dd82bfea8bf9169f741f0a874200cdf74d8ab25fd4ccc54c7f907d8284"
   }
  }
 },
 "nbformat": 4,
 "nbformat_minor": 2
}
